{
 "cells": [
  {
   "cell_type": "markdown",
   "metadata": {},
   "source": [
    "# pyquery"
   ]
  },
  {
   "cell_type": "markdown",
   "metadata": {},
   "source": [
    "## 初始化"
   ]
  },
  {
   "cell_type": "code",
   "execution_count": 2,
   "metadata": {},
   "outputs": [
    {
     "name": "stdout",
     "output_type": "stream",
     "text": [
      "<head><meta http-equiv=\"content-type\" content=\"text/html;charset=utf-8\"/><meta http-equiv=\"X-UA-Compatible\" content=\"IE=Edge\"/><meta content=\"always\" name=\"referrer\"/><link rel=\"stylesheet\" type=\"text/css\" href=\"http://s1.bdstatic.com/r/www/cache/bdorz/baidu.min.css\"/><title>ç¾åº¦ä¸ä¸ï¼ä½ å°±ç¥é</title></head> \n"
     ]
    }
   ],
   "source": [
    "from pyquery import PyQuery as pq\n",
    "\n",
    "#doc = pq(\"<html></html>\")\n",
    "doc = pq(url='http://baidu.com/')\n",
    "#doc = pq(filename=path_to_html_file)\n",
    "\n",
    "print(doc('head'))"
   ]
  },
  {
   "cell_type": "markdown",
   "metadata": {},
   "source": [
    "## 基本css选择器"
   ]
  },
  {
   "cell_type": "code",
   "execution_count": 3,
   "metadata": {},
   "outputs": [
    {
     "name": "stdout",
     "output_type": "stream",
     "text": [
      "<li class=\"item-0\">first item</li>\n",
      "        <li class=\"item-1\"><a href=\"link2.html\">second item</a></li>\n",
      "        <li class=\"item-0 active\"><a href=\"link3.html\"><span clas=\"\">third item</span></a></li>\n",
      "        <li class=\"item-1 active\"><a href=\"link4.html\">fourth item</a></li>\n",
      "        <li class=\"item-0\"><a href=\"link5.html\">fifth item</a></li>\n",
      "    \n"
     ]
    }
   ],
   "source": [
    "html = '''\n",
    "<div class=\"wrap\">\n",
    "    <div id=\"container\">\n",
    "        <ul class=\"list\">\n",
    "            <li class=\"item-0\">first item</li>\n",
    "            <li class=\"item-1\"><a href=\"link2.html\">second item</a></li>\n",
    "            <li class=\"item-0 active\"><a href=\"link3.html\"><span clas\"bold\">third item</span></a></li>\n",
    "            <li class=\"item-1 active\"><a href=\"link4.html\">fourth item</a></li>\n",
    "            <li class=\"item-0\"><a href=\"link5.html\">fifth item</a></li>\n",
    "        </ul>\n",
    "    </div>\n",
    "</div>\n",
    "'''\n",
    "doc = pq(html)\n",
    "print(doc('#container .list li'))"
   ]
  },
  {
   "cell_type": "markdown",
   "metadata": {},
   "source": [
    "## 查找元素"
   ]
  },
  {
   "cell_type": "markdown",
   "metadata": {},
   "source": [
    "### 子元素"
   ]
  },
  {
   "cell_type": "code",
   "execution_count": 5,
   "metadata": {},
   "outputs": [
    {
     "name": "stdout",
     "output_type": "stream",
     "text": [
      "<class 'pyquery.pyquery.PyQuery'>\n",
      "<ul class=\"list\">\n",
      "        <li class=\"item-0\">first item</li>\n",
      "        <li class=\"item-1\"><a href=\"link2.html\">second item</a></li>\n",
      "        <li class=\"item-0 active\"><a href=\"link3.html\"><span clas=\"\">third item</span></a></li>\n",
      "        <li class=\"item-1 active\"><a href=\"link4.html\">fourth item</a></li>\n",
      "        <li class=\"item-0\"><a href=\"link5.html\">fifth item</a></li>\n",
      "    </ul>\n",
      "\n",
      "<class 'pyquery.pyquery.PyQuery'>\n",
      "<li class=\"item-0\">first item</li>\n",
      "        <li class=\"item-1\"><a href=\"link2.html\">second item</a></li>\n",
      "        <li class=\"item-0 active\"><a href=\"link3.html\"><span clas=\"\">third item</span></a></li>\n",
      "        <li class=\"item-1 active\"><a href=\"link4.html\">fourth item</a></li>\n",
      "        <li class=\"item-0\"><a href=\"link5.html\">fifth item</a></li>\n",
      "    \n"
     ]
    }
   ],
   "source": [
    "item = doc('.list')\n",
    "print(type(item))\n",
    "print(item)\n",
    "lis = item.find('li')\n",
    "print(type(lis))\n",
    "print(lis)"
   ]
  },
  {
   "cell_type": "code",
   "execution_count": 6,
   "metadata": {},
   "outputs": [
    {
     "name": "stdout",
     "output_type": "stream",
     "text": [
      "<li class=\"item-0\">first item</li>\n",
      "        <li class=\"item-1\"><a href=\"link2.html\">second item</a></li>\n",
      "        <li class=\"item-0 active\"><a href=\"link3.html\"><span clas=\"\">third item</span></a></li>\n",
      "        <li class=\"item-1 active\"><a href=\"link4.html\">fourth item</a></li>\n",
      "        <li class=\"item-0\"><a href=\"link5.html\">fifth item</a></li>\n",
      "    \n"
     ]
    }
   ],
   "source": [
    "lis = item.children()\n",
    "print(lis)"
   ]
  },
  {
   "cell_type": "code",
   "execution_count": 7,
   "metadata": {},
   "outputs": [
    {
     "name": "stdout",
     "output_type": "stream",
     "text": [
      "<li class=\"item-0 active\"><a href=\"link3.html\"><span clas=\"\">third item</span></a></li>\n",
      "        <li class=\"item-1 active\"><a href=\"link4.html\">fourth item</a></li>\n",
      "        \n"
     ]
    }
   ],
   "source": [
    "lis = item.children('.active')\n",
    "print(lis)"
   ]
  },
  {
   "cell_type": "markdown",
   "metadata": {},
   "source": [
    "### 父元素"
   ]
  },
  {
   "cell_type": "code",
   "execution_count": 12,
   "metadata": {},
   "outputs": [
    {
     "name": "stdout",
     "output_type": "stream",
     "text": [
      "<class 'pyquery.pyquery.PyQuery'>\n",
      "<div id=\"container\">\n",
      "    <ul class=\"list\">\n",
      "        <li class=\"item-0\">first item</li>\n",
      "        <li class=\"item-1\"><a href=\"link2.html\">second item</a></li>\n",
      "        <li class=\"item-0 active\"><a href=\"link3.html\"><span clas=\"\">third item</span></a></li>\n",
      "        <li class=\"item-1 active\"><a href=\"link4.html\">fourth item</a></li>\n",
      "        <li class=\"item-0\"><a href=\"link5.html\">fifth item</a></li>\n",
      "    </ul>\n",
      "</div>\n",
      "\n"
     ]
    }
   ],
   "source": [
    "container = item.parent()\n",
    "print(type(container))\n",
    "print(container)"
   ]
  },
  {
   "cell_type": "code",
   "execution_count": 27,
   "metadata": {},
   "outputs": [
    {
     "name": "stdout",
     "output_type": "stream",
     "text": [
      "<html><body><div class=\"wrap\">\n",
      "    <div id=\"container\">\n",
      "        <ul class=\"list\">\n",
      "            <li class=\"item-0\">first item</li>\n",
      "            <li class=\"item-1\"><a href=\"link2.html\">second item</a></li>\n",
      "            <li class=\"item-0 active\"><a href=\"link3.html\"><span clas=\"\">third item</span></a></li>\n",
      "            <li class=\"item-1 active\"><a href=\"link4.html\">fourth item</a></li>\n",
      "            <li class=\"item-0\"><a href=\"link5.html\">fifth item</a></li>\n",
      "        </ul>\n",
      "    </div>\n",
      "</div>\n",
      "</body></html><body><div class=\"wrap\">\n",
      "    <div id=\"container\">\n",
      "        <ul class=\"list\">\n",
      "            <li class=\"item-0\">first item</li>\n",
      "            <li class=\"item-1\"><a href=\"link2.html\">second item</a></li>\n",
      "            <li class=\"item-0 active\"><a href=\"link3.html\"><span clas=\"\">third item</span></a></li>\n",
      "            <li class=\"item-1 active\"><a href=\"link4.html\">fourth item</a></li>\n",
      "            <li class=\"item-0\"><a href=\"link5.html\">fifth item</a></li>\n",
      "        </ul>\n",
      "    </div>\n",
      "</div>\n",
      "</body><div class=\"wrap\">\n",
      "    <div id=\"container\">\n",
      "        <ul class=\"list\">\n",
      "            <li class=\"item-0\">first item</li>\n",
      "            <li class=\"item-1\"><a href=\"link2.html\">second item</a></li>\n",
      "            <li class=\"item-0 active\"><a href=\"link3.html\"><span clas=\"\">third item</span></a></li>\n",
      "            <li class=\"item-1 active\"><a href=\"link4.html\">fourth item</a></li>\n",
      "            <li class=\"item-0\"><a href=\"link5.html\">fifth item</a></li>\n",
      "        </ul>\n",
      "    </div>\n",
      "</div>\n",
      "<div id=\"container\">\n",
      "        <ul class=\"list\">\n",
      "            <li class=\"item-0\">first item</li>\n",
      "            <li class=\"item-1\"><a href=\"link2.html\">second item</a></li>\n",
      "            <li class=\"item-0 active\"><a href=\"link3.html\"><span clas=\"\">third item</span></a></li>\n",
      "            <li class=\"item-1 active\"><a href=\"link4.html\">fourth item</a></li>\n",
      "            <li class=\"item-0\"><a href=\"link5.html\">fifth item</a></li>\n",
      "        </ul>\n",
      "    </div>\n",
      "\n"
     ]
    }
   ],
   "source": [
    "html = '''\n",
    "<div class=\"wrap\">\n",
    "    <div id=\"container\">\n",
    "        <ul class=\"list\">\n",
    "            <li class=\"item-0\">first item</li>\n",
    "            <li class=\"item-1\"><a href=\"link2.html\">second item</a></li>\n",
    "            <li class=\"item-0 active\"><a href=\"link3.html\"><span clas\"bold\">third item</span></a></li>\n",
    "            <li class=\"item-1 active\"><a href=\"link4.html\">fourth item</a></li>\n",
    "            <li class=\"item-0\"><a href=\"link5.html\">fifth item</a></li>\n",
    "        </ul>\n",
    "    </div>\n",
    "</div>\n",
    "'''\n",
    "doc = pq(html)\n",
    "item = doc('.list')\n",
    "container = item.parents()\n",
    "print(container)"
   ]
  },
  {
   "cell_type": "code",
   "execution_count": 28,
   "metadata": {},
   "outputs": [
    {
     "name": "stdout",
     "output_type": "stream",
     "text": [
      "<div class=\"wrap\">\n",
      "    <div id=\"container\">\n",
      "        <ul class=\"list\">\n",
      "            <li class=\"item-0\">first item</li>\n",
      "            <li class=\"item-1\"><a href=\"link2.html\">second item</a></li>\n",
      "            <li class=\"item-0 active\"><a href=\"link3.html\"><span clas=\"\">third item</span></a></li>\n",
      "            <li class=\"item-1 active\"><a href=\"link4.html\">fourth item</a></li>\n",
      "            <li class=\"item-0\"><a href=\"link5.html\">fifth item</a></li>\n",
      "        </ul>\n",
      "    </div>\n",
      "</div>\n",
      "\n"
     ]
    }
   ],
   "source": [
    "container = item.parents('.wrap')\n",
    "print(container)"
   ]
  },
  {
   "cell_type": "markdown",
   "metadata": {},
   "source": [
    "### 兄弟元素"
   ]
  },
  {
   "cell_type": "code",
   "execution_count": 34,
   "metadata": {},
   "outputs": [
    {
     "name": "stdout",
     "output_type": "stream",
     "text": [
      "<li class=\"item-1\"><a href=\"link2.html\">second item</a></li>\n",
      "            <li class=\"item-0\">first item</li>\n",
      "            <li class=\"item-1 active\"><a href=\"link4.html\">fourth item</a></li>\n",
      "            <li class=\"item-0\"><a href=\"link5.html\">fifth item</a></li>\n",
      "        \n"
     ]
    }
   ],
   "source": [
    "li = doc('.list .item-0.active')\n",
    "print(li.siblings())"
   ]
  },
  {
   "cell_type": "markdown",
   "metadata": {},
   "source": [
    "## 遍历"
   ]
  },
  {
   "cell_type": "code",
   "execution_count": 35,
   "metadata": {},
   "outputs": [
    {
     "name": "stdout",
     "output_type": "stream",
     "text": [
      "<li class=\"item-0 active\"><a href=\"link3.html\"><span clas=\"\">third item</span></a></li>\n",
      "            \n"
     ]
    }
   ],
   "source": [
    "li = doc('.list .item-0.active')\n",
    "print(li)"
   ]
  },
  {
   "cell_type": "code",
   "execution_count": 37,
   "metadata": {},
   "outputs": [
    {
     "name": "stdout",
     "output_type": "stream",
     "text": [
      "<li class=\"item-0\">first item</li>\n",
      "            \n",
      "<li class=\"item-1\"><a href=\"link2.html\">second item</a></li>\n",
      "            \n",
      "<li class=\"item-0 active\"><a href=\"link3.html\"><span clas=\"\">third item</span></a></li>\n",
      "            \n",
      "<li class=\"item-1 active\"><a href=\"link4.html\">fourth item</a></li>\n",
      "            \n",
      "<li class=\"item-0\"><a href=\"link5.html\">fifth item</a></li>\n",
      "        \n"
     ]
    }
   ],
   "source": [
    "lis = doc('li').items()\n",
    "for li in lis:\n",
    "    print(li)"
   ]
  },
  {
   "cell_type": "markdown",
   "metadata": {},
   "source": [
    "## 获取信息"
   ]
  },
  {
   "cell_type": "markdown",
   "metadata": {},
   "source": [
    "### 获取属性"
   ]
  },
  {
   "cell_type": "code",
   "execution_count": 40,
   "metadata": {},
   "outputs": [
    {
     "name": "stdout",
     "output_type": "stream",
     "text": [
      "<a href=\"link3.html\"><span clas=\"\">third item</span></a>\n",
      "link3.html\n"
     ]
    }
   ],
   "source": [
    "a = doc('.item-0.active a')\n",
    "print(a)\n",
    "print(a.attr.href)"
   ]
  },
  {
   "cell_type": "markdown",
   "metadata": {},
   "source": [
    "### 获取文本"
   ]
  },
  {
   "cell_type": "code",
   "execution_count": 42,
   "metadata": {},
   "outputs": [
    {
     "name": "stdout",
     "output_type": "stream",
     "text": [
      "third item\n"
     ]
    }
   ],
   "source": [
    "print(a.text())"
   ]
  },
  {
   "cell_type": "markdown",
   "metadata": {},
   "source": [
    "### 获取html"
   ]
  },
  {
   "cell_type": "code",
   "execution_count": 45,
   "metadata": {},
   "outputs": [
    {
     "name": "stdout",
     "output_type": "stream",
     "text": [
      "<li class=\"item-0 active\"><a href=\"link3.html\"><span clas=\"\">third item</span></a></li>\n",
      "            \n",
      "<a href=\"link3.html\"><span clas=\"\">third item</span></a>\n"
     ]
    }
   ],
   "source": [
    "li = doc('.item-0.active')\n",
    "print(li)\n",
    "print(li.html())"
   ]
  },
  {
   "cell_type": "markdown",
   "metadata": {},
   "source": [
    "## DOM操作"
   ]
  },
  {
   "cell_type": "markdown",
   "metadata": {},
   "source": [
    "#### addClass removeClass"
   ]
  },
  {
   "cell_type": "code",
   "execution_count": 50,
   "metadata": {},
   "outputs": [
    {
     "name": "stdout",
     "output_type": "stream",
     "text": [
      "<li class=\"item-0 active\"><a href=\"link3.html\"><span clas=\"\">third item</span></a></li>\n",
      "            \n",
      "<li class=\"item-0\"><a href=\"link3.html\"><span clas=\"\">third item</span></a></li>\n",
      "            \n",
      "<li class=\"item-0 active\"><a href=\"link3.html\"><span clas=\"\">third item</span></a></li>\n",
      "            \n"
     ]
    }
   ],
   "source": [
    "from pyquery import PyQuery as pq\n",
    "html = '''\n",
    "<div class=\"wrap\">\n",
    "    <div id=\"container\">\n",
    "        <ul class=\"list\">\n",
    "            <li class=\"item-0\">first item</li>\n",
    "            <li class=\"item-1\"><a href=\"link2.html\">second item</a></li>\n",
    "            <li class=\"item-0 active\"><a href=\"link3.html\"><span clas\"bold\">third item</span></a></li>\n",
    "            <li class=\"item-1 active\"><a href=\"link4.html\">fourth item</a></li>\n",
    "            <li class=\"item-0\"><a href=\"link5.html\">fifth item</a></li>\n",
    "        </ul>\n",
    "    </div>\n",
    "</div>\n",
    "'''\n",
    "doc = pq(html)\n",
    "li = doc('.item-0.active')\n",
    "print(li)\n",
    "li = li.removeClass('active')\n",
    "print(li)\n",
    "li = li.addClass('active')\n",
    "print(li)"
   ]
  },
  {
   "cell_type": "markdown",
   "metadata": {},
   "source": [
    "#### attr css"
   ]
  },
  {
   "cell_type": "code",
   "execution_count": 51,
   "metadata": {},
   "outputs": [
    {
     "name": "stdout",
     "output_type": "stream",
     "text": [
      "<li class=\"item-0 active\" name=\"link\"><a href=\"link3.html\"><span clas=\"\">third item</span></a></li>\n",
      "            \n",
      "<li class=\"item-0 active\" name=\"link\" style=\"font-size: 14px\"><a href=\"link3.html\"><span clas=\"\">third item</span></a></li>\n",
      "            \n"
     ]
    }
   ],
   "source": [
    "li.attr('name','link')\n",
    "print(li)\n",
    "li.css('font-size','14px')\n",
    "print(li)"
   ]
  },
  {
   "cell_type": "markdown",
   "metadata": {},
   "source": [
    "#### remove"
   ]
  },
  {
   "cell_type": "code",
   "execution_count": 61,
   "metadata": {},
   "outputs": [
    {
     "name": "stdout",
     "output_type": "stream",
     "text": [
      "Hello World\n",
      "This is p\n",
      "Hello World\n"
     ]
    }
   ],
   "source": [
    "html = '''\n",
    "<div class=\"wrap\">\n",
    "    Hello World\n",
    "    <p>This is p</p>\n",
    "</div>\n",
    "'''\n",
    "doc = pq(html)\n",
    "wrap = doc('.wrap')\n",
    "print(wrap.text())\n",
    "wrap.find('p').remove()\n",
    "print(wrap.text())"
   ]
  },
  {
   "cell_type": "markdown",
   "metadata": {},
   "source": [
    "### 伪类选择器"
   ]
  },
  {
   "cell_type": "code",
   "execution_count": 70,
   "metadata": {},
   "outputs": [
    {
     "name": "stdout",
     "output_type": "stream",
     "text": [
      "<li class=\"item-0\">first item</li>\n",
      "            \n",
      "<li class=\"item-0\"><a href=\"link5.html\">fifth item</a></li>\n",
      "        \n",
      "<li class=\"item-1\"><a href=\"link2.html\">second item</a></li>\n",
      "            \n",
      "<li class=\"item-1 active\"><a href=\"link4.html\">fourth item</a></li>\n",
      "            <li class=\"item-0\"><a href=\"link5.html\">fifth item</a></li>\n",
      "        \n",
      "<li class=\"item-1\"><a href=\"link2.html\">second item</a></li>\n",
      "            <li class=\"item-1 active\"><a href=\"link4.html\">fourth item</a></li>\n",
      "            \n",
      "<li class=\"item-1\"><a href=\"link2.html\">second item</a></li>\n",
      "            \n"
     ]
    }
   ],
   "source": [
    "html = '''\n",
    "<div class=\"wrap\">\n",
    "    <div id=\"container\">\n",
    "        <ul class=\"list\">\n",
    "            <li class=\"item-0\">first item</li>\n",
    "            <li class=\"item-1\"><a href=\"link2.html\">second item</a></li>\n",
    "            <li class=\"item-0 active\"><a href=\"link3.html\"><span clas\"bold\">third item</span></a></li>\n",
    "            <li class=\"item-1 active\"><a href=\"link4.html\">fourth item</a></li>\n",
    "            <li class=\"item-0\"><a href=\"link5.html\">fifth item</a></li>\n",
    "        </ul>\n",
    "    </div>\n",
    "</div>\n",
    "'''\n",
    "doc = pq(html)\n",
    "li = doc('li:first-child')\n",
    "print(li)\n",
    "li = doc('li:last-child')\n",
    "print(li)\n",
    "li = doc('li:nth-child(2)')\n",
    "print(li)\n",
    "li = doc('li:gt(2)')\n",
    "print(li)\n",
    "li = doc('li:nth-child(2n)')\n",
    "print(li)\n",
    "li = doc('li:contains(second)')\n",
    "print(li)"
   ]
  },
  {
   "cell_type": "code",
   "execution_count": null,
   "metadata": {},
   "outputs": [],
   "source": []
  }
 ],
 "metadata": {
  "kernelspec": {
   "display_name": "Python 3",
   "language": "python",
   "name": "python3"
  },
  "language_info": {
   "codemirror_mode": {
    "name": "ipython",
    "version": 3
   },
   "file_extension": ".py",
   "mimetype": "text/x-python",
   "name": "python",
   "nbconvert_exporter": "python",
   "pygments_lexer": "ipython3",
   "version": "3.6.5"
  }
 },
 "nbformat": 4,
 "nbformat_minor": 2
}
